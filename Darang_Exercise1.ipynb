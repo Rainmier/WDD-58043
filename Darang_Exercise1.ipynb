{
  "nbformat": 4,
  "nbformat_minor": 0,
  "metadata": {
    "colab": {
      "name": "Darang-Exercise1.ipynb",
      "provenance": [],
      "authorship_tag": "ABX9TyPpwUQl0yJRnMi9y8xlJp1o",
      "include_colab_link": true
    },
    "kernelspec": {
      "name": "python3",
      "display_name": "Python 3"
    },
    "language_info": {
      "name": "python"
    }
  },
  "cells": [
    {
      "cell_type": "markdown",
      "metadata": {
        "id": "view-in-github",
        "colab_type": "text"
      },
      "source": [
        "<a href=\"https://colab.research.google.com/github/Rainmier/WDD-58043/blob/main/Darang_Exercise1.ipynb\" target=\"_parent\"><img src=\"https://colab.research.google.com/assets/colab-badge.svg\" alt=\"Open In Colab\"/></a>"
      ]
    },
    {
      "cell_type": "markdown",
      "source": [
        "Exercise 1"
      ],
      "metadata": {
        "id": "G4hPmgjZsAQx"
      }
    },
    {
      "cell_type": "code",
      "source": [
        "r = float(input(\"Radius value:\"))\n",
        "A = 3.14 * (r**2)\n",
        "print(\"area =\", A)"
      ],
      "metadata": {
        "colab": {
          "base_uri": "https://localhost:8080/"
        },
        "id": "aQuizH418_iO",
        "outputId": "b2874e0e-b379-4ebc-91ee-e8e59f54601e"
      },
      "execution_count": 3,
      "outputs": [
        {
          "output_type": "stream",
          "name": "stdout",
          "text": [
            "Radius value:1\n",
            "area = 3.14\n"
          ]
        }
      ]
    }
  ]
}